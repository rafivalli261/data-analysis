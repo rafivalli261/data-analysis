{
 "cells": [
  {
   "cell_type": "code",
   "execution_count": 1,
   "id": "initial_id",
   "metadata": {
    "collapsed": true,
    "ExecuteTime": {
     "end_time": "2024-11-13T16:17:05.234943800Z",
     "start_time": "2024-11-13T16:17:03.562309500Z"
    }
   },
   "outputs": [],
   "source": [
    "import pandas as pd"
   ]
  },
  {
   "cell_type": "code",
   "outputs": [],
   "source": [
    "student_data = pd.read_csv(\"./student_lifestyle_dataset.csv\")"
   ],
   "metadata": {
    "collapsed": false,
    "ExecuteTime": {
     "end_time": "2024-11-13T16:17:26.572678900Z",
     "start_time": "2024-11-13T16:17:26.549946400Z"
    }
   },
   "id": "ee62a720eeda0e30",
   "execution_count": 3
  },
  {
   "cell_type": "code",
   "outputs": [
    {
     "data": {
      "text/plain": "   Student_ID  Study_Hours_Per_Day  Extracurricular_Hours_Per_Day  \\\n0           1                  6.9                            3.8   \n1           2                  5.3                            3.5   \n2           3                  5.1                            3.9   \n3           4                  6.5                            2.1   \n4           5                  8.1                            0.6   \n\n   Sleep_Hours_Per_Day  Social_Hours_Per_Day  Physical_Activity_Hours_Per_Day  \\\n0                  8.7                   2.8                              1.8   \n1                  8.0                   4.2                              3.0   \n2                  9.2                   1.2                              4.6   \n3                  7.2                   1.7                              6.5   \n4                  6.5                   2.2                              6.6   \n\n    GPA Stress_Level  \n0  2.99     Moderate  \n1  2.75          Low  \n2  2.67          Low  \n3  2.88     Moderate  \n4  3.51         High  ",
      "text/html": "<div>\n<style scoped>\n    .dataframe tbody tr th:only-of-type {\n        vertical-align: middle;\n    }\n\n    .dataframe tbody tr th {\n        vertical-align: top;\n    }\n\n    .dataframe thead th {\n        text-align: right;\n    }\n</style>\n<table border=\"1\" class=\"dataframe\">\n  <thead>\n    <tr style=\"text-align: right;\">\n      <th></th>\n      <th>Student_ID</th>\n      <th>Study_Hours_Per_Day</th>\n      <th>Extracurricular_Hours_Per_Day</th>\n      <th>Sleep_Hours_Per_Day</th>\n      <th>Social_Hours_Per_Day</th>\n      <th>Physical_Activity_Hours_Per_Day</th>\n      <th>GPA</th>\n      <th>Stress_Level</th>\n    </tr>\n  </thead>\n  <tbody>\n    <tr>\n      <th>0</th>\n      <td>1</td>\n      <td>6.9</td>\n      <td>3.8</td>\n      <td>8.7</td>\n      <td>2.8</td>\n      <td>1.8</td>\n      <td>2.99</td>\n      <td>Moderate</td>\n    </tr>\n    <tr>\n      <th>1</th>\n      <td>2</td>\n      <td>5.3</td>\n      <td>3.5</td>\n      <td>8.0</td>\n      <td>4.2</td>\n      <td>3.0</td>\n      <td>2.75</td>\n      <td>Low</td>\n    </tr>\n    <tr>\n      <th>2</th>\n      <td>3</td>\n      <td>5.1</td>\n      <td>3.9</td>\n      <td>9.2</td>\n      <td>1.2</td>\n      <td>4.6</td>\n      <td>2.67</td>\n      <td>Low</td>\n    </tr>\n    <tr>\n      <th>3</th>\n      <td>4</td>\n      <td>6.5</td>\n      <td>2.1</td>\n      <td>7.2</td>\n      <td>1.7</td>\n      <td>6.5</td>\n      <td>2.88</td>\n      <td>Moderate</td>\n    </tr>\n    <tr>\n      <th>4</th>\n      <td>5</td>\n      <td>8.1</td>\n      <td>0.6</td>\n      <td>6.5</td>\n      <td>2.2</td>\n      <td>6.6</td>\n      <td>3.51</td>\n      <td>High</td>\n    </tr>\n  </tbody>\n</table>\n</div>"
     },
     "execution_count": 4,
     "metadata": {},
     "output_type": "execute_result"
    }
   ],
   "source": [
    "student_data.head()"
   ],
   "metadata": {
    "collapsed": false,
    "ExecuteTime": {
     "end_time": "2024-11-13T16:17:37.232634700Z",
     "start_time": "2024-11-13T16:17:37.184048100Z"
    }
   },
   "id": "6a8ab85c0788ecb",
   "execution_count": 4
  },
  {
   "cell_type": "code",
   "outputs": [
    {
     "name": "stdout",
     "output_type": "stream",
     "text": [
      "columns : Index(['Study_Hours_Per_Day', 'Extracurricular_Hours_Per_Day',\n",
      "       'Sleep_Hours_Per_Day', 'Social_Hours_Per_Day',\n",
      "       'Physical_Activity_Hours_Per_Day', 'GPA', 'Stress_Level'],\n",
      "      dtype='object') which are 7 length\n"
     ]
    }
   ],
   "source": [
    "columns = student_data.columns[1:]\n",
    "print(f\"columns : {columns} which are {len(columns)} length\")"
   ],
   "metadata": {
    "collapsed": false,
    "ExecuteTime": {
     "end_time": "2024-11-13T16:24:18.945739100Z",
     "start_time": "2024-11-13T16:24:18.938003Z"
    }
   },
   "id": "191e55e6da46efd4",
   "execution_count": 12
  },
  {
   "cell_type": "code",
   "outputs": [
    {
     "name": "stdout",
     "output_type": "stream",
     "text": [
      "column : Study_Hours_Per_Day have max : 10.0 and min : 5.0\n",
      "column : Extracurricular_Hours_Per_Day have max : 4.0 and min : 0.0\n",
      "column : Sleep_Hours_Per_Day have max : 10.0 and min : 5.0\n",
      "column : Social_Hours_Per_Day have max : 6.0 and min : 0.0\n",
      "column : Physical_Activity_Hours_Per_Day have max : 13.0 and min : 0.0\n",
      "column : GPA have max : 4.0 and min : 2.24\n"
     ]
    }
   ],
   "source": [
    "for column in columns[:6]:\n",
    "    print(f\"column : {column} have max : {max(student_data[column])} and min : {min(student_data[column])}\")"
   ],
   "metadata": {
    "collapsed": false,
    "ExecuteTime": {
     "end_time": "2024-11-13T16:24:57.067433Z",
     "start_time": "2024-11-13T16:24:57.061956300Z"
    }
   },
   "id": "8896e71ef1898ae5",
   "execution_count": 14
  },
  {
   "cell_type": "code",
   "outputs": [],
   "source": [],
   "metadata": {
    "collapsed": false
   },
   "id": "33f60751b1a19c56"
  }
 ],
 "metadata": {
  "kernelspec": {
   "display_name": "Python 3",
   "language": "python",
   "name": "python3"
  },
  "language_info": {
   "codemirror_mode": {
    "name": "ipython",
    "version": 2
   },
   "file_extension": ".py",
   "mimetype": "text/x-python",
   "name": "python",
   "nbconvert_exporter": "python",
   "pygments_lexer": "ipython2",
   "version": "2.7.6"
  }
 },
 "nbformat": 4,
 "nbformat_minor": 5
}
