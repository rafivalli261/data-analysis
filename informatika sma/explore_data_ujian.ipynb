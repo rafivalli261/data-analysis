{
 "cells": [
  {
   "cell_type": "markdown",
   "source": [
    "# Association Rules Mining\n",
    "This code will make recommendation based on student exam data using association rules. "
   ],
   "metadata": {
    "collapsed": false
   },
   "id": "21a39a4a0d8c94d8"
  },
  {
   "cell_type": "code",
   "outputs": [],
   "source": [
    "from mlxtend.frequent_patterns import apriori, association_rules\n",
    "import pandas as pd"
   ],
   "metadata": {
    "collapsed": true,
    "ExecuteTime": {
     "end_time": "2024-12-29T12:16:04.437430800Z",
     "start_time": "2024-12-29T12:16:04.025627700Z"
    }
   },
   "id": "initial_id",
   "execution_count": 1
  },
  {
   "cell_type": "code",
   "outputs": [
    {
     "data": {
      "text/plain": "  Baris Data  Soal 1  Soal 2  Soal 3  Soal 4  Soal 5  Soal 6  Soal 7  Soal 8  \\\n0    Siswa 1       0       0       0       0       0       0       0       0   \n1    Siswa 2       0       0       0       0       0       0       0       1   \n2    Siswa 3       0       0       0       0       1       0       1       0   \n3    Siswa 4       0       0       0       1       1       1       0       0   \n4    Siswa 5       0       0       0       0       0       1       0       1   \n\n   Soal 9  ...  Soal 16  Soal 17  Soal 18  Soal 19  Soal 20  Soal 21  Soal 22  \\\n0       1  ...        0        0        0        1        0        0        0   \n1       1  ...        0        1        1        0        0        1        0   \n2       1  ...        1        1        1        1        1        1        1   \n3       1  ...        0        0        1        0        0        1        1   \n4       1  ...        1        0        0        0        0        1        1   \n\n   Soal 23  Soal 24  Soal 25  \n0        0        0        0  \n1        0        0        1  \n2        0        1        1  \n3        0        0        1  \n4        0        1        1  \n\n[5 rows x 26 columns]",
      "text/html": "<div>\n<style scoped>\n    .dataframe tbody tr th:only-of-type {\n        vertical-align: middle;\n    }\n\n    .dataframe tbody tr th {\n        vertical-align: top;\n    }\n\n    .dataframe thead th {\n        text-align: right;\n    }\n</style>\n<table border=\"1\" class=\"dataframe\">\n  <thead>\n    <tr style=\"text-align: right;\">\n      <th></th>\n      <th>Baris Data</th>\n      <th>Soal 1</th>\n      <th>Soal 2</th>\n      <th>Soal 3</th>\n      <th>Soal 4</th>\n      <th>Soal 5</th>\n      <th>Soal 6</th>\n      <th>Soal 7</th>\n      <th>Soal 8</th>\n      <th>Soal 9</th>\n      <th>...</th>\n      <th>Soal 16</th>\n      <th>Soal 17</th>\n      <th>Soal 18</th>\n      <th>Soal 19</th>\n      <th>Soal 20</th>\n      <th>Soal 21</th>\n      <th>Soal 22</th>\n      <th>Soal 23</th>\n      <th>Soal 24</th>\n      <th>Soal 25</th>\n    </tr>\n  </thead>\n  <tbody>\n    <tr>\n      <th>0</th>\n      <td>Siswa 1</td>\n      <td>0</td>\n      <td>0</td>\n      <td>0</td>\n      <td>0</td>\n      <td>0</td>\n      <td>0</td>\n      <td>0</td>\n      <td>0</td>\n      <td>1</td>\n      <td>...</td>\n      <td>0</td>\n      <td>0</td>\n      <td>0</td>\n      <td>1</td>\n      <td>0</td>\n      <td>0</td>\n      <td>0</td>\n      <td>0</td>\n      <td>0</td>\n      <td>0</td>\n    </tr>\n    <tr>\n      <th>1</th>\n      <td>Siswa 2</td>\n      <td>0</td>\n      <td>0</td>\n      <td>0</td>\n      <td>0</td>\n      <td>0</td>\n      <td>0</td>\n      <td>0</td>\n      <td>1</td>\n      <td>1</td>\n      <td>...</td>\n      <td>0</td>\n      <td>1</td>\n      <td>1</td>\n      <td>0</td>\n      <td>0</td>\n      <td>1</td>\n      <td>0</td>\n      <td>0</td>\n      <td>0</td>\n      <td>1</td>\n    </tr>\n    <tr>\n      <th>2</th>\n      <td>Siswa 3</td>\n      <td>0</td>\n      <td>0</td>\n      <td>0</td>\n      <td>0</td>\n      <td>1</td>\n      <td>0</td>\n      <td>1</td>\n      <td>0</td>\n      <td>1</td>\n      <td>...</td>\n      <td>1</td>\n      <td>1</td>\n      <td>1</td>\n      <td>1</td>\n      <td>1</td>\n      <td>1</td>\n      <td>1</td>\n      <td>0</td>\n      <td>1</td>\n      <td>1</td>\n    </tr>\n    <tr>\n      <th>3</th>\n      <td>Siswa 4</td>\n      <td>0</td>\n      <td>0</td>\n      <td>0</td>\n      <td>1</td>\n      <td>1</td>\n      <td>1</td>\n      <td>0</td>\n      <td>0</td>\n      <td>1</td>\n      <td>...</td>\n      <td>0</td>\n      <td>0</td>\n      <td>1</td>\n      <td>0</td>\n      <td>0</td>\n      <td>1</td>\n      <td>1</td>\n      <td>0</td>\n      <td>0</td>\n      <td>1</td>\n    </tr>\n    <tr>\n      <th>4</th>\n      <td>Siswa 5</td>\n      <td>0</td>\n      <td>0</td>\n      <td>0</td>\n      <td>0</td>\n      <td>0</td>\n      <td>1</td>\n      <td>0</td>\n      <td>1</td>\n      <td>1</td>\n      <td>...</td>\n      <td>1</td>\n      <td>0</td>\n      <td>0</td>\n      <td>0</td>\n      <td>0</td>\n      <td>1</td>\n      <td>1</td>\n      <td>0</td>\n      <td>1</td>\n      <td>1</td>\n    </tr>\n  </tbody>\n</table>\n<p>5 rows × 26 columns</p>\n</div>"
     },
     "execution_count": 2,
     "metadata": {},
     "output_type": "execute_result"
    }
   ],
   "source": [
    "data = pd.read_csv(\"./data_ujian_informatika_10AB_salah.csv\")\n",
    "data.head()"
   ],
   "metadata": {
    "collapsed": false,
    "ExecuteTime": {
     "end_time": "2024-12-29T12:16:40.806682500Z",
     "start_time": "2024-12-29T12:16:40.697310300Z"
    }
   },
   "id": "d709a31a1a997bf",
   "execution_count": 2
  },
  {
   "cell_type": "code",
   "outputs": [
    {
     "data": {
      "text/plain": "   Soal 1  Soal 2  Soal 3  Soal 4  Soal 5  Soal 6  Soal 7  Soal 8  Soal 9  \\\n0       0       0       0       0       0       0       0       0       1   \n1       0       0       0       0       0       0       0       1       1   \n2       0       0       0       0       1       0       1       0       1   \n3       0       0       0       1       1       1       0       0       1   \n4       0       0       0       0       0       1       0       1       1   \n\n   Soal 10  ...  Soal 16  Soal 17  Soal 18  Soal 19  Soal 20  Soal 21  \\\n0        0  ...        0        0        0        1        0        0   \n1        0  ...        0        1        1        0        0        1   \n2        0  ...        1        1        1        1        1        1   \n3        0  ...        0        0        1        0        0        1   \n4        0  ...        1        0        0        0        0        1   \n\n   Soal 22  Soal 23  Soal 24  Soal 25  \n0        0        0        0        0  \n1        0        0        0        1  \n2        1        0        1        1  \n3        1        0        0        1  \n4        1        0        1        1  \n\n[5 rows x 25 columns]",
      "text/html": "<div>\n<style scoped>\n    .dataframe tbody tr th:only-of-type {\n        vertical-align: middle;\n    }\n\n    .dataframe tbody tr th {\n        vertical-align: top;\n    }\n\n    .dataframe thead th {\n        text-align: right;\n    }\n</style>\n<table border=\"1\" class=\"dataframe\">\n  <thead>\n    <tr style=\"text-align: right;\">\n      <th></th>\n      <th>Soal 1</th>\n      <th>Soal 2</th>\n      <th>Soal 3</th>\n      <th>Soal 4</th>\n      <th>Soal 5</th>\n      <th>Soal 6</th>\n      <th>Soal 7</th>\n      <th>Soal 8</th>\n      <th>Soal 9</th>\n      <th>Soal 10</th>\n      <th>...</th>\n      <th>Soal 16</th>\n      <th>Soal 17</th>\n      <th>Soal 18</th>\n      <th>Soal 19</th>\n      <th>Soal 20</th>\n      <th>Soal 21</th>\n      <th>Soal 22</th>\n      <th>Soal 23</th>\n      <th>Soal 24</th>\n      <th>Soal 25</th>\n    </tr>\n  </thead>\n  <tbody>\n    <tr>\n      <th>0</th>\n      <td>0</td>\n      <td>0</td>\n      <td>0</td>\n      <td>0</td>\n      <td>0</td>\n      <td>0</td>\n      <td>0</td>\n      <td>0</td>\n      <td>1</td>\n      <td>0</td>\n      <td>...</td>\n      <td>0</td>\n      <td>0</td>\n      <td>0</td>\n      <td>1</td>\n      <td>0</td>\n      <td>0</td>\n      <td>0</td>\n      <td>0</td>\n      <td>0</td>\n      <td>0</td>\n    </tr>\n    <tr>\n      <th>1</th>\n      <td>0</td>\n      <td>0</td>\n      <td>0</td>\n      <td>0</td>\n      <td>0</td>\n      <td>0</td>\n      <td>0</td>\n      <td>1</td>\n      <td>1</td>\n      <td>0</td>\n      <td>...</td>\n      <td>0</td>\n      <td>1</td>\n      <td>1</td>\n      <td>0</td>\n      <td>0</td>\n      <td>1</td>\n      <td>0</td>\n      <td>0</td>\n      <td>0</td>\n      <td>1</td>\n    </tr>\n    <tr>\n      <th>2</th>\n      <td>0</td>\n      <td>0</td>\n      <td>0</td>\n      <td>0</td>\n      <td>1</td>\n      <td>0</td>\n      <td>1</td>\n      <td>0</td>\n      <td>1</td>\n      <td>0</td>\n      <td>...</td>\n      <td>1</td>\n      <td>1</td>\n      <td>1</td>\n      <td>1</td>\n      <td>1</td>\n      <td>1</td>\n      <td>1</td>\n      <td>0</td>\n      <td>1</td>\n      <td>1</td>\n    </tr>\n    <tr>\n      <th>3</th>\n      <td>0</td>\n      <td>0</td>\n      <td>0</td>\n      <td>1</td>\n      <td>1</td>\n      <td>1</td>\n      <td>0</td>\n      <td>0</td>\n      <td>1</td>\n      <td>0</td>\n      <td>...</td>\n      <td>0</td>\n      <td>0</td>\n      <td>1</td>\n      <td>0</td>\n      <td>0</td>\n      <td>1</td>\n      <td>1</td>\n      <td>0</td>\n      <td>0</td>\n      <td>1</td>\n    </tr>\n    <tr>\n      <th>4</th>\n      <td>0</td>\n      <td>0</td>\n      <td>0</td>\n      <td>0</td>\n      <td>0</td>\n      <td>1</td>\n      <td>0</td>\n      <td>1</td>\n      <td>1</td>\n      <td>0</td>\n      <td>...</td>\n      <td>1</td>\n      <td>0</td>\n      <td>0</td>\n      <td>0</td>\n      <td>0</td>\n      <td>1</td>\n      <td>1</td>\n      <td>0</td>\n      <td>1</td>\n      <td>1</td>\n    </tr>\n  </tbody>\n</table>\n<p>5 rows × 25 columns</p>\n</div>"
     },
     "execution_count": 3,
     "metadata": {},
     "output_type": "execute_result"
    }
   ],
   "source": [
    "data_sliced = data.loc[:, \"Soal 1\":\"Soal 25\"]\n",
    "data_sliced.head()"
   ],
   "metadata": {
    "collapsed": false,
    "ExecuteTime": {
     "end_time": "2024-12-29T12:25:36.032162Z",
     "start_time": "2024-12-29T12:25:36.007284900Z"
    }
   },
   "id": "98e87b4ce897625f",
   "execution_count": 3
  },
  {
   "cell_type": "code",
   "outputs": [
    {
     "name": "stdout",
     "output_type": "stream",
     "text": [
      "Processing 10 combinations | Sampling itemset size 543\n"
     ]
    },
    {
     "name": "stderr",
     "output_type": "stream",
     "text": [
      "E:\\work-coding\\data-analysis\\.venv\\Lib\\site-packages\\mlxtend\\frequent_patterns\\fpcommon.py:161: DeprecationWarning: DataFrames with non-bool types result in worse computationalperformance and their support might be discontinued in the future.Please use a DataFrame with bool type\n",
      "  warnings.warn(\n"
     ]
    },
    {
     "data": {
      "text/plain": "     support                              itemsets\n0    0.25625                              (Soal 2)\n1    0.21250                              (Soal 4)\n2    0.27500                              (Soal 5)\n3    0.27500                              (Soal 6)\n4    0.28125                              (Soal 7)\n..       ...                                   ...\n191  0.20000   (Soal 25, Soal 13, Soal 19, Soal 9)\n192  0.26250   (Soal 25, Soal 13, Soal 21, Soal 9)\n193  0.23125   (Soal 25, Soal 15, Soal 21, Soal 9)\n194  0.23125   (Soal 18, Soal 25, Soal 21, Soal 9)\n195  0.20625  (Soal 25, Soal 13, Soal 18, Soal 21)\n\n[196 rows x 2 columns]",
      "text/html": "<div>\n<style scoped>\n    .dataframe tbody tr th:only-of-type {\n        vertical-align: middle;\n    }\n\n    .dataframe tbody tr th {\n        vertical-align: top;\n    }\n\n    .dataframe thead th {\n        text-align: right;\n    }\n</style>\n<table border=\"1\" class=\"dataframe\">\n  <thead>\n    <tr style=\"text-align: right;\">\n      <th></th>\n      <th>support</th>\n      <th>itemsets</th>\n    </tr>\n  </thead>\n  <tbody>\n    <tr>\n      <th>0</th>\n      <td>0.25625</td>\n      <td>(Soal 2)</td>\n    </tr>\n    <tr>\n      <th>1</th>\n      <td>0.21250</td>\n      <td>(Soal 4)</td>\n    </tr>\n    <tr>\n      <th>2</th>\n      <td>0.27500</td>\n      <td>(Soal 5)</td>\n    </tr>\n    <tr>\n      <th>3</th>\n      <td>0.27500</td>\n      <td>(Soal 6)</td>\n    </tr>\n    <tr>\n      <th>4</th>\n      <td>0.28125</td>\n      <td>(Soal 7)</td>\n    </tr>\n    <tr>\n      <th>...</th>\n      <td>...</td>\n      <td>...</td>\n    </tr>\n    <tr>\n      <th>191</th>\n      <td>0.20000</td>\n      <td>(Soal 25, Soal 13, Soal 19, Soal 9)</td>\n    </tr>\n    <tr>\n      <th>192</th>\n      <td>0.26250</td>\n      <td>(Soal 25, Soal 13, Soal 21, Soal 9)</td>\n    </tr>\n    <tr>\n      <th>193</th>\n      <td>0.23125</td>\n      <td>(Soal 25, Soal 15, Soal 21, Soal 9)</td>\n    </tr>\n    <tr>\n      <th>194</th>\n      <td>0.23125</td>\n      <td>(Soal 18, Soal 25, Soal 21, Soal 9)</td>\n    </tr>\n    <tr>\n      <th>195</th>\n      <td>0.20625</td>\n      <td>(Soal 25, Soal 13, Soal 18, Soal 21)</td>\n    </tr>\n  </tbody>\n</table>\n<p>196 rows × 2 columns</p>\n</div>"
     },
     "execution_count": 6,
     "metadata": {},
     "output_type": "execute_result"
    }
   ],
   "source": [
    "df = apriori(data_sliced, min_support = 0.2, use_colnames = True, verbose = 1)\n",
    "df"
   ],
   "metadata": {
    "collapsed": false,
    "ExecuteTime": {
     "end_time": "2024-12-29T12:31:48.492563900Z",
     "start_time": "2024-12-29T12:31:48.460220500Z"
    }
   },
   "id": "c2aacee0e23b4df7",
   "execution_count": 6
  },
  {
   "cell_type": "code",
   "outputs": [
    {
     "data": {
      "text/plain": "                     antecedents         consequents  antecedent support  \\\n0                       (Soal 2)            (Soal 9)             0.25625   \n1                       (Soal 2)           (Soal 25)             0.25625   \n2                       (Soal 5)            (Soal 9)             0.27500   \n3                       (Soal 5)           (Soal 25)             0.27500   \n4                       (Soal 6)            (Soal 9)             0.27500   \n..                           ...                 ...                 ...   \n288  (Soal 25, Soal 13, Soal 18)           (Soal 21)             0.28750   \n289  (Soal 25, Soal 13, Soal 21)           (Soal 18)             0.31250   \n290  (Soal 25, Soal 18, Soal 21)           (Soal 13)             0.26250   \n291  (Soal 18, Soal 13, Soal 21)           (Soal 25)             0.24375   \n292           (Soal 18, Soal 21)  (Soal 25, Soal 13)             0.30625   \n\n     consequent support  support  confidence      lift  representativity  \\\n0               0.73125  0.20625    0.804878  1.100688               1.0   \n1               0.66875  0.21875    0.853659  1.276499               1.0   \n2               0.73125  0.21250    0.772727  1.056721               1.0   \n3               0.66875  0.20625    0.750000  1.121495               1.0   \n4               0.73125  0.20625    0.750000  1.025641               1.0   \n..                  ...      ...         ...       ...               ...   \n288             0.58750  0.20625    0.717391  1.221092               1.0   \n289             0.44375  0.20625    0.660000  1.487324               1.0   \n290             0.70000  0.20625    0.785714  1.122449               1.0   \n291             0.66875  0.20625    0.846154  1.265277               1.0   \n292             0.47500  0.20625    0.673469  1.417830               1.0   \n\n     leverage  conviction  zhangs_metric   jaccard  certainty  kulczynski  \n0    0.018867    1.377344       0.122995  0.264000   0.273965    0.543465  \n1    0.047383    2.263542       0.291236  0.309735   0.558214    0.590381  \n2    0.011406    1.182500       0.074037  0.267717   0.154334    0.531663  \n3    0.022344    1.325000       0.149425  0.279661   0.245283    0.529206  \n4    0.005156    1.075000       0.034483  0.257812   0.069767    0.516026  \n..        ...         ...            ...       ...        ...         ...  \n288  0.037344    1.459615       0.254120  0.308411   0.314888    0.534228  \n289  0.067578    1.636029       0.476584  0.375000   0.388764    0.562394  \n290  0.022500    1.400000       0.147920  0.272727   0.285714    0.540179  \n291  0.043242    2.153125       0.277235  0.292035   0.535559    0.577283  \n292  0.060781    1.607812       0.424788  0.358696   0.378037    0.553840  \n\n[293 rows x 14 columns]",
      "text/html": "<div>\n<style scoped>\n    .dataframe tbody tr th:only-of-type {\n        vertical-align: middle;\n    }\n\n    .dataframe tbody tr th {\n        vertical-align: top;\n    }\n\n    .dataframe thead th {\n        text-align: right;\n    }\n</style>\n<table border=\"1\" class=\"dataframe\">\n  <thead>\n    <tr style=\"text-align: right;\">\n      <th></th>\n      <th>antecedents</th>\n      <th>consequents</th>\n      <th>antecedent support</th>\n      <th>consequent support</th>\n      <th>support</th>\n      <th>confidence</th>\n      <th>lift</th>\n      <th>representativity</th>\n      <th>leverage</th>\n      <th>conviction</th>\n      <th>zhangs_metric</th>\n      <th>jaccard</th>\n      <th>certainty</th>\n      <th>kulczynski</th>\n    </tr>\n  </thead>\n  <tbody>\n    <tr>\n      <th>0</th>\n      <td>(Soal 2)</td>\n      <td>(Soal 9)</td>\n      <td>0.25625</td>\n      <td>0.73125</td>\n      <td>0.20625</td>\n      <td>0.804878</td>\n      <td>1.100688</td>\n      <td>1.0</td>\n      <td>0.018867</td>\n      <td>1.377344</td>\n      <td>0.122995</td>\n      <td>0.264000</td>\n      <td>0.273965</td>\n      <td>0.543465</td>\n    </tr>\n    <tr>\n      <th>1</th>\n      <td>(Soal 2)</td>\n      <td>(Soal 25)</td>\n      <td>0.25625</td>\n      <td>0.66875</td>\n      <td>0.21875</td>\n      <td>0.853659</td>\n      <td>1.276499</td>\n      <td>1.0</td>\n      <td>0.047383</td>\n      <td>2.263542</td>\n      <td>0.291236</td>\n      <td>0.309735</td>\n      <td>0.558214</td>\n      <td>0.590381</td>\n    </tr>\n    <tr>\n      <th>2</th>\n      <td>(Soal 5)</td>\n      <td>(Soal 9)</td>\n      <td>0.27500</td>\n      <td>0.73125</td>\n      <td>0.21250</td>\n      <td>0.772727</td>\n      <td>1.056721</td>\n      <td>1.0</td>\n      <td>0.011406</td>\n      <td>1.182500</td>\n      <td>0.074037</td>\n      <td>0.267717</td>\n      <td>0.154334</td>\n      <td>0.531663</td>\n    </tr>\n    <tr>\n      <th>3</th>\n      <td>(Soal 5)</td>\n      <td>(Soal 25)</td>\n      <td>0.27500</td>\n      <td>0.66875</td>\n      <td>0.20625</td>\n      <td>0.750000</td>\n      <td>1.121495</td>\n      <td>1.0</td>\n      <td>0.022344</td>\n      <td>1.325000</td>\n      <td>0.149425</td>\n      <td>0.279661</td>\n      <td>0.245283</td>\n      <td>0.529206</td>\n    </tr>\n    <tr>\n      <th>4</th>\n      <td>(Soal 6)</td>\n      <td>(Soal 9)</td>\n      <td>0.27500</td>\n      <td>0.73125</td>\n      <td>0.20625</td>\n      <td>0.750000</td>\n      <td>1.025641</td>\n      <td>1.0</td>\n      <td>0.005156</td>\n      <td>1.075000</td>\n      <td>0.034483</td>\n      <td>0.257812</td>\n      <td>0.069767</td>\n      <td>0.516026</td>\n    </tr>\n    <tr>\n      <th>...</th>\n      <td>...</td>\n      <td>...</td>\n      <td>...</td>\n      <td>...</td>\n      <td>...</td>\n      <td>...</td>\n      <td>...</td>\n      <td>...</td>\n      <td>...</td>\n      <td>...</td>\n      <td>...</td>\n      <td>...</td>\n      <td>...</td>\n      <td>...</td>\n    </tr>\n    <tr>\n      <th>288</th>\n      <td>(Soal 25, Soal 13, Soal 18)</td>\n      <td>(Soal 21)</td>\n      <td>0.28750</td>\n      <td>0.58750</td>\n      <td>0.20625</td>\n      <td>0.717391</td>\n      <td>1.221092</td>\n      <td>1.0</td>\n      <td>0.037344</td>\n      <td>1.459615</td>\n      <td>0.254120</td>\n      <td>0.308411</td>\n      <td>0.314888</td>\n      <td>0.534228</td>\n    </tr>\n    <tr>\n      <th>289</th>\n      <td>(Soal 25, Soal 13, Soal 21)</td>\n      <td>(Soal 18)</td>\n      <td>0.31250</td>\n      <td>0.44375</td>\n      <td>0.20625</td>\n      <td>0.660000</td>\n      <td>1.487324</td>\n      <td>1.0</td>\n      <td>0.067578</td>\n      <td>1.636029</td>\n      <td>0.476584</td>\n      <td>0.375000</td>\n      <td>0.388764</td>\n      <td>0.562394</td>\n    </tr>\n    <tr>\n      <th>290</th>\n      <td>(Soal 25, Soal 18, Soal 21)</td>\n      <td>(Soal 13)</td>\n      <td>0.26250</td>\n      <td>0.70000</td>\n      <td>0.20625</td>\n      <td>0.785714</td>\n      <td>1.122449</td>\n      <td>1.0</td>\n      <td>0.022500</td>\n      <td>1.400000</td>\n      <td>0.147920</td>\n      <td>0.272727</td>\n      <td>0.285714</td>\n      <td>0.540179</td>\n    </tr>\n    <tr>\n      <th>291</th>\n      <td>(Soal 18, Soal 13, Soal 21)</td>\n      <td>(Soal 25)</td>\n      <td>0.24375</td>\n      <td>0.66875</td>\n      <td>0.20625</td>\n      <td>0.846154</td>\n      <td>1.265277</td>\n      <td>1.0</td>\n      <td>0.043242</td>\n      <td>2.153125</td>\n      <td>0.277235</td>\n      <td>0.292035</td>\n      <td>0.535559</td>\n      <td>0.577283</td>\n    </tr>\n    <tr>\n      <th>292</th>\n      <td>(Soal 18, Soal 21)</td>\n      <td>(Soal 25, Soal 13)</td>\n      <td>0.30625</td>\n      <td>0.47500</td>\n      <td>0.20625</td>\n      <td>0.673469</td>\n      <td>1.417830</td>\n      <td>1.0</td>\n      <td>0.060781</td>\n      <td>1.607812</td>\n      <td>0.424788</td>\n      <td>0.358696</td>\n      <td>0.378037</td>\n      <td>0.553840</td>\n    </tr>\n  </tbody>\n</table>\n<p>293 rows × 14 columns</p>\n</div>"
     },
     "execution_count": 8,
     "metadata": {},
     "output_type": "execute_result"
    }
   ],
   "source": [
    "df_ar = association_rules(df, metric = \"confidence\", min_threshold = 0.6, num_itemsets=25)\n",
    "df_ar"
   ],
   "metadata": {
    "collapsed": false,
    "ExecuteTime": {
     "end_time": "2024-12-29T12:32:07.432706800Z",
     "start_time": "2024-12-29T12:32:07.391883700Z"
    }
   },
   "id": "82bd75358e96be22",
   "execution_count": 8
  },
  {
   "cell_type": "code",
   "outputs": [],
   "source": [],
   "metadata": {
    "collapsed": false
   },
   "id": "ab05deadf6112607"
  }
 ],
 "metadata": {
  "kernelspec": {
   "display_name": "Python 3",
   "language": "python",
   "name": "python3"
  },
  "language_info": {
   "codemirror_mode": {
    "name": "ipython",
    "version": 2
   },
   "file_extension": ".py",
   "mimetype": "text/x-python",
   "name": "python",
   "nbconvert_exporter": "python",
   "pygments_lexer": "ipython2",
   "version": "2.7.6"
  }
 },
 "nbformat": 4,
 "nbformat_minor": 5
}
